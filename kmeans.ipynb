{
  "cells": [
    {
      "cell_type": "code",
      "execution_count": 220,
      "id": "b070c52f",
      "metadata": {},
      "outputs": [],
      "source": [
        "import numpy as np\n",
        "import pandas as pd\n",
        "import matplotlib.pyplot as plt"
      ]
    },
    {
      "cell_type": "markdown",
      "id": "96a54082",
      "metadata": {},
      "source": [
        "Reading Iris dataset "
      ]
    },
    {
      "cell_type": "code",
      "execution_count": 221,
      "id": "2e6a8d7b",
      "metadata": {},
      "outputs": [
        {
          "data": {
            "text/html": [
              "<div>\n",
              "<style scoped>\n",
              "    .dataframe tbody tr th:only-of-type {\n",
              "        vertical-align: middle;\n",
              "    }\n",
              "\n",
              "    .dataframe tbody tr th {\n",
              "        vertical-align: top;\n",
              "    }\n",
              "\n",
              "    .dataframe thead th {\n",
              "        text-align: right;\n",
              "    }\n",
              "</style>\n",
              "<table border=\"1\" class=\"dataframe\">\n",
              "  <thead>\n",
              "    <tr style=\"text-align: right;\">\n",
              "      <th></th>\n",
              "      <th>Id</th>\n",
              "      <th>SepalLengthCm</th>\n",
              "      <th>SepalWidthCm</th>\n",
              "      <th>PetalLengthCm</th>\n",
              "      <th>PetalWidthCm</th>\n",
              "      <th>Species</th>\n",
              "    </tr>\n",
              "  </thead>\n",
              "  <tbody>\n",
              "    <tr>\n",
              "      <th>0</th>\n",
              "      <td>1</td>\n",
              "      <td>5.1</td>\n",
              "      <td>3.5</td>\n",
              "      <td>1.4</td>\n",
              "      <td>0.2</td>\n",
              "      <td>Iris-setosa</td>\n",
              "    </tr>\n",
              "    <tr>\n",
              "      <th>1</th>\n",
              "      <td>2</td>\n",
              "      <td>4.9</td>\n",
              "      <td>3.0</td>\n",
              "      <td>1.4</td>\n",
              "      <td>0.2</td>\n",
              "      <td>Iris-setosa</td>\n",
              "    </tr>\n",
              "    <tr>\n",
              "      <th>2</th>\n",
              "      <td>3</td>\n",
              "      <td>4.7</td>\n",
              "      <td>3.2</td>\n",
              "      <td>1.3</td>\n",
              "      <td>0.2</td>\n",
              "      <td>Iris-setosa</td>\n",
              "    </tr>\n",
              "    <tr>\n",
              "      <th>3</th>\n",
              "      <td>4</td>\n",
              "      <td>4.6</td>\n",
              "      <td>3.1</td>\n",
              "      <td>1.5</td>\n",
              "      <td>0.2</td>\n",
              "      <td>Iris-setosa</td>\n",
              "    </tr>\n",
              "    <tr>\n",
              "      <th>4</th>\n",
              "      <td>5</td>\n",
              "      <td>5.0</td>\n",
              "      <td>3.6</td>\n",
              "      <td>1.4</td>\n",
              "      <td>0.2</td>\n",
              "      <td>Iris-setosa</td>\n",
              "    </tr>\n",
              "  </tbody>\n",
              "</table>\n",
              "</div>"
            ],
            "text/plain": [
              "   Id  SepalLengthCm  SepalWidthCm  PetalLengthCm  PetalWidthCm      Species\n",
              "0   1            5.1           3.5            1.4           0.2  Iris-setosa\n",
              "1   2            4.9           3.0            1.4           0.2  Iris-setosa\n",
              "2   3            4.7           3.2            1.3           0.2  Iris-setosa\n",
              "3   4            4.6           3.1            1.5           0.2  Iris-setosa\n",
              "4   5            5.0           3.6            1.4           0.2  Iris-setosa"
            ]
          },
          "execution_count": 221,
          "metadata": {},
          "output_type": "execute_result"
        }
      ],
      "source": [
        "data = pd.read_csv(\"Iris Dataset.csv\")\n",
        "data.head(5)"
      ]
    },
    {
      "cell_type": "markdown",
      "id": "a0e15f9f",
      "metadata": {},
      "source": [
        "Changing Species name into numeric values"
      ]
    },
    {
      "cell_type": "code",
      "execution_count": 222,
      "id": "37078016",
      "metadata": {},
      "outputs": [],
      "source": [
        "data['Species'] = data['Species'].apply({'Iris-setosa':0, 'Iris-versicolor':1, 'Iris-virginica':2}.get)\n",
        "data.head(2)\n",
        "y_actual = data.Species"
      ]
    },
    {
      "cell_type": "code",
      "execution_count": 223,
      "id": "84144172",
      "metadata": {},
      "outputs": [],
      "source": [
        "df = pd.DataFrame({\n",
        "    'x': data.SepalLengthCm,\n",
        "    'y': data.SepalWidthCm,\n",
        "    'cluster': data.Species\n",
        "})\n",
        "x_train = pd.DataFrame({\n",
        "    'x': data.SepalLengthCm,\n",
        "    'y': data.SepalWidthCm\n",
        "})"
      ]
    },
    {
      "cell_type": "markdown",
      "id": "b3fd49db",
      "metadata": {},
      "source": [
        "Defining colours for each species "
      ]
    },
    {
      "cell_type": "code",
      "execution_count": 224,
      "id": "01426521",
      "metadata": {},
      "outputs": [],
      "source": [
        "colmap = {0: 'r', 1: 'g', 2: 'b'}   "
      ]
    },
    {
      "cell_type": "markdown",
      "id": "eb5b5a25",
      "metadata": {},
      "source": [
        "This method assigns each datapoint into one of of the three clusters corresponding to each species"
      ]
    },
    {
      "cell_type": "code",
      "execution_count": 225,
      "id": "f3bd8d2e",
      "metadata": {},
      "outputs": [],
      "source": [
        "def assignment(df, centroid):\n",
        "    for i in range(3):\n",
        "        df['distance_from_{}'.format(i)] = (np.sqrt((df['x'] - centroid[i][0])**2 + (df['y'] - centroid[i][1])**2))\n",
        "    centroid_distance_cols = ['distance_from_{}'.format(i) for i in centroid.keys()]\n",
        "    df['closest'] = df.loc[:, centroid_distance_cols].idxmin(axis=1)\n",
        "    df['closest'] = df['closest'].map(lambda x: int(x.lstrip('distance_from_')))\n",
        "    df['color'] = df['closest'].map(lambda x: colmap[x])\n",
        "    return df\n"
      ]
    },
    {
      "cell_type": "markdown",
      "id": "b82c236c",
      "metadata": {},
      "source": [
        "This method updates the centroid for all clusters once all the data points have been assigned to one of the clusters and returns the updated clusters"
      ]
    },
    {
      "cell_type": "code",
      "execution_count": 226,
      "id": "3b225680",
      "metadata": {},
      "outputs": [],
      "source": [
        "def update_centroids(list, X):\n",
        "    for i in range(3):\n",
        "        list[i][0] = np.mean(X[X['closest'] == i]['x'])\n",
        "        list[i][1] = np.mean(X[X['closest'] == i]['y'])\n",
        "    return list"
      ]
    },
    {
      "cell_type": "markdown",
      "id": "212cc35c",
      "metadata": {},
      "source": [
        "This method implements the K means clustering algorithm and takes arguments as list of all data points, number of clusters and initially defined centroids"
      ]
    },
    {
      "cell_type": "code",
      "execution_count": 227,
      "id": "faf7e9d2",
      "metadata": {},
      "outputs": [],
      "source": [
        "def kmean(X, K, centroid_list):\n",
        "    X = assignment(X, centroid_list)\n",
        "    centroid_list = update_centroids(centroid_list, X)\n",
        "    while True:\n",
        "        closest = X['closest'].copy(deep=True)\n",
        "        centroid_list = update_centroids(centroid_list,X)\n",
        "        X = assignment(X, centroid_list)\n",
        "        if closest.equals(X['closest']):\n",
        "            break\n",
        "    return X \n",
        "    \n"
      ]
    },
    {
      "cell_type": "markdown",
      "id": "fc144646",
      "metadata": {},
      "source": [
        "Defining intial centroids as the mean of values corresponding to each species"
      ]
    },
    {
      "cell_type": "code",
      "execution_count": 228,
      "id": "bb03fb92",
      "metadata": {},
      "outputs": [
        {
          "data": {
            "text/plain": [
              "{0: [5.006, 3.418],\n",
              " 1: [5.936, 2.7700000000000005],\n",
              " 2: [6.587999999999998, 2.974]}"
            ]
          },
          "execution_count": 228,
          "metadata": {},
          "output_type": "execute_result"
        }
      ],
      "source": [
        "centres = {}\n",
        "for i in range(3):\n",
        "    list = []\n",
        "    list.append(df.loc[df['cluster'] == i]['x'].mean())\n",
        "    list.append(df.loc[df['cluster'] == i]['y'].mean())\n",
        "    centres[i] = list\n",
        "centres"
      ]
    },
    {
      "cell_type": "code",
      "execution_count": 229,
      "id": "851a2c73",
      "metadata": {},
      "outputs": [],
      "source": [
        "x_predicted = kmean(x_train, 3, centres)\n",
        "y_predicted = x_predicted['closest']"
      ]
    },
    {
      "cell_type": "markdown",
      "id": "d434835c",
      "metadata": {},
      "source": [
        "This method compares the output predicted by k means algorithm to the actual dataset and returns accuracy in percentage"
      ]
    },
    {
      "cell_type": "code",
      "execution_count": 230,
      "id": "9a9bedbf",
      "metadata": {},
      "outputs": [],
      "source": [
        "def compare(y_pred, y_test):\n",
        "    count = 0\n",
        "    for i in y_test.index:\n",
        "        if y_pred[i] == y_test.loc[i]:\n",
        "            count = count +1\n",
        "    return count*100/len(y_pred)"
      ]
    },
    {
      "cell_type": "code",
      "execution_count": 231,
      "id": "80c6af99",
      "metadata": {},
      "outputs": [
        {
          "name": "stdout",
          "output_type": "stream",
          "text": [
            "Accuracy: 82.0 %\n"
          ]
        }
      ],
      "source": [
        "Accuracy = compare(y_predicted, y_actual)\n",
        "print(\"Accuracy:\", Accuracy, \"%\")"
      ]
    },
    {
      "cell_type": "markdown",
      "id": "69aa9c1b",
      "metadata": {},
      "source": [
        "Plotting real dataset"
      ]
    },
    {
      "cell_type": "code",
      "execution_count": 232,
      "id": "1ce3aff6",
      "metadata": {},
      "outputs": [
        {
          "data": {
            "text/plain": [
              "Text(0, 0.5, 'Sepal Width')"
            ]
          },
          "execution_count": 232,
          "metadata": {},
          "output_type": "execute_result"
        },
        {
          "data": {
            "image/png": "[encoded data removed]",
            "text/plain": [
              "<Figure size 360x360 with 1 Axes>"
            ]
          },
          "metadata": {
            "needs_background": "light"
          },
          "output_type": "display_data"
        }
      ],
      "source": [
        "fig = plt.figure(figsize=(5,5))\n",
        "plt.scatter(df['x'], df['y'], c = df['cluster'],cmap = 'gist_rainbow')\n",
        "plt.xlabel('Sepal Length', fontsize = 18)\n",
        "plt.ylabel('Sepal Width', fontsize = 18)"
      ]
    },
    {
      "cell_type": "markdown",
      "id": "a3d445e7",
      "metadata": {},
      "source": [
        "Plotting predicted clusters"
      ]
    },
    {
      "cell_type": "code",
      "execution_count": 233,
      "id": "2a65477a",
      "metadata": {},
      "outputs": [
        {
          "data": {
            "image/png": "[encoded data removed]",
            "text/plain": [
              "<Figure size 360x360 with 1 Axes>"
            ]
          },
          "metadata": {
            "needs_background": "light"
          },
          "output_type": "display_data"
        }
      ],
      "source": [
        "fig = plt.figure(figsize=(5,5))\n",
        "\n",
        "plt.scatter(x_predicted['x'],x_predicted['y'], color = x_predicted['color'], alpha=1)\n",
        "plt.show()"
      ]
    }
  ],
  "metadata": {
    "interpreter": {
      "hash": "a28960e65365257941a791ce2683654f258fd3efc08277d53aa5422e77a5c2c7"
    },
    "kernelspec": {
      "display_name": "Python 3.9.7 64-bit",
      "language": "python",
      "name": "python3"
    },
    "language_info": {
      "codemirror_mode": {
        "name": "ipython",
        "version": 3
      },
      "file_extension": ".py",
      "mimetype": "text/x-python",
      "name": "python",
      "nbconvert_exporter": "python",
      "pygments_lexer": "ipython3",
      "version": "3.9.7"
    }
  },
  "nbformat": 4,
  "nbformat_minor": 5
}
