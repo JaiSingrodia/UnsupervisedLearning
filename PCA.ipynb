{
  "cells": [
    {
      "cell_type": "code",
      "execution_count": 64,
      "id": "b070c52f",
      "metadata": {},
      "outputs": [],
      "source": [
        "import numpy as np\n",
        "import pandas as pd\n",
        "import matplotlib.pyplot as plt\n",
        "import pylab as pl"
      ]
    },
    {
      "cell_type": "markdown",
      "id": "96a54082",
      "metadata": {},
      "source": [
        "Reading Iris dataset "
      ]
    },
    {
      "cell_type": "code",
      "execution_count": 65,
      "id": "2e6a8d7b",
      "metadata": {},
      "outputs": [
        {
          "data": {
            "text/html": [
              "<div>\n",
              "<style scoped>\n",
              "    .dataframe tbody tr th:only-of-type {\n",
              "        vertical-align: middle;\n",
              "    }\n",
              "\n",
              "    .dataframe tbody tr th {\n",
              "        vertical-align: top;\n",
              "    }\n",
              "\n",
              "    .dataframe thead th {\n",
              "        text-align: right;\n",
              "    }\n",
              "</style>\n",
              "<table border=\"1\" class=\"dataframe\">\n",
              "  <thead>\n",
              "    <tr style=\"text-align: right;\">\n",
              "      <th></th>\n",
              "      <th>Id</th>\n",
              "      <th>SepalLengthCm</th>\n",
              "      <th>SepalWidthCm</th>\n",
              "      <th>PetalLengthCm</th>\n",
              "      <th>PetalWidthCm</th>\n",
              "      <th>Species</th>\n",
              "    </tr>\n",
              "  </thead>\n",
              "  <tbody>\n",
              "    <tr>\n",
              "      <th>0</th>\n",
              "      <td>1</td>\n",
              "      <td>5.1</td>\n",
              "      <td>3.5</td>\n",
              "      <td>1.4</td>\n",
              "      <td>0.2</td>\n",
              "      <td>Iris-setosa</td>\n",
              "    </tr>\n",
              "    <tr>\n",
              "      <th>1</th>\n",
              "      <td>2</td>\n",
              "      <td>4.9</td>\n",
              "      <td>3.0</td>\n",
              "      <td>1.4</td>\n",
              "      <td>0.2</td>\n",
              "      <td>Iris-setosa</td>\n",
              "    </tr>\n",
              "    <tr>\n",
              "      <th>2</th>\n",
              "      <td>3</td>\n",
              "      <td>4.7</td>\n",
              "      <td>3.2</td>\n",
              "      <td>1.3</td>\n",
              "      <td>0.2</td>\n",
              "      <td>Iris-setosa</td>\n",
              "    </tr>\n",
              "    <tr>\n",
              "      <th>3</th>\n",
              "      <td>4</td>\n",
              "      <td>4.6</td>\n",
              "      <td>3.1</td>\n",
              "      <td>1.5</td>\n",
              "      <td>0.2</td>\n",
              "      <td>Iris-setosa</td>\n",
              "    </tr>\n",
              "    <tr>\n",
              "      <th>4</th>\n",
              "      <td>5</td>\n",
              "      <td>5.0</td>\n",
              "      <td>3.6</td>\n",
              "      <td>1.4</td>\n",
              "      <td>0.2</td>\n",
              "      <td>Iris-setosa</td>\n",
              "    </tr>\n",
              "  </tbody>\n",
              "</table>\n",
              "</div>"
            ],
            "text/plain": [
              "   Id  SepalLengthCm  SepalWidthCm  PetalLengthCm  PetalWidthCm      Species\n",
              "0   1            5.1           3.5            1.4           0.2  Iris-setosa\n",
              "1   2            4.9           3.0            1.4           0.2  Iris-setosa\n",
              "2   3            4.7           3.2            1.3           0.2  Iris-setosa\n",
              "3   4            4.6           3.1            1.5           0.2  Iris-setosa\n",
              "4   5            5.0           3.6            1.4           0.2  Iris-setosa"
            ]
          },
          "execution_count": 65,
          "metadata": {},
          "output_type": "execute_result"
        }
      ],
      "source": [
        "X = pd.read_csv(\"Iris Dataset.csv\")\n",
        "X.head(5)"
      ]
    },
    {
      "cell_type": "code",
      "execution_count": 66,
      "id": "9156e14c",
      "metadata": {},
      "outputs": [
        {
          "data": {
            "text/html": [
              "<div>\n",
              "<style scoped>\n",
              "    .dataframe tbody tr th:only-of-type {\n",
              "        vertical-align: middle;\n",
              "    }\n",
              "\n",
              "    .dataframe tbody tr th {\n",
              "        vertical-align: top;\n",
              "    }\n",
              "\n",
              "    .dataframe thead th {\n",
              "        text-align: right;\n",
              "    }\n",
              "</style>\n",
              "<table border=\"1\" class=\"dataframe\">\n",
              "  <thead>\n",
              "    <tr style=\"text-align: right;\">\n",
              "      <th></th>\n",
              "      <th>SepalLengthCm</th>\n",
              "      <th>SepalWidthCm</th>\n",
              "      <th>PetalLengthCm</th>\n",
              "      <th>PetalWidthCm</th>\n",
              "    </tr>\n",
              "  </thead>\n",
              "  <tbody>\n",
              "    <tr>\n",
              "      <th>0</th>\n",
              "      <td>5.1</td>\n",
              "      <td>3.5</td>\n",
              "      <td>1.4</td>\n",
              "      <td>0.2</td>\n",
              "    </tr>\n",
              "    <tr>\n",
              "      <th>1</th>\n",
              "      <td>4.9</td>\n",
              "      <td>3.0</td>\n",
              "      <td>1.4</td>\n",
              "      <td>0.2</td>\n",
              "    </tr>\n",
              "    <tr>\n",
              "      <th>2</th>\n",
              "      <td>4.7</td>\n",
              "      <td>3.2</td>\n",
              "      <td>1.3</td>\n",
              "      <td>0.2</td>\n",
              "    </tr>\n",
              "    <tr>\n",
              "      <th>3</th>\n",
              "      <td>4.6</td>\n",
              "      <td>3.1</td>\n",
              "      <td>1.5</td>\n",
              "      <td>0.2</td>\n",
              "    </tr>\n",
              "    <tr>\n",
              "      <th>4</th>\n",
              "      <td>5.0</td>\n",
              "      <td>3.6</td>\n",
              "      <td>1.4</td>\n",
              "      <td>0.2</td>\n",
              "    </tr>\n",
              "  </tbody>\n",
              "</table>\n",
              "</div>"
            ],
            "text/plain": [
              "   SepalLengthCm  SepalWidthCm  PetalLengthCm  PetalWidthCm\n",
              "0            5.1           3.5            1.4           0.2\n",
              "1            4.9           3.0            1.4           0.2\n",
              "2            4.7           3.2            1.3           0.2\n",
              "3            4.6           3.1            1.5           0.2\n",
              "4            5.0           3.6            1.4           0.2"
            ]
          },
          "execution_count": 66,
          "metadata": {},
          "output_type": "execute_result"
        }
      ],
      "source": [
        "y = X['Species']\n",
        "X=X.drop(['Species','Id'],axis=1)\n",
        "X.head(5)"
      ]
    },
    {
      "cell_type": "markdown",
      "id": "c20f9886",
      "metadata": {},
      "source": [
        "Standardizing the data prior to a PCA"
      ]
    },
    {
      "cell_type": "code",
      "execution_count": 67,
      "id": "3c8670e8",
      "metadata": {},
      "outputs": [
        {
          "name": "stdout",
          "output_type": "stream",
          "text": [
            "[[-0.90068117  1.03205722 -1.3412724  -1.31297673]\n",
            " [-1.14301691 -0.1249576  -1.3412724  -1.31297673]\n",
            " [-1.38535265  0.33784833 -1.39813811 -1.31297673]\n",
            " [-1.50652052  0.10644536 -1.2844067  -1.31297673]\n",
            " [-1.02184904  1.26346019 -1.3412724  -1.31297673]]\n"
          ]
        },
        {
          "data": {
            "text/plain": [
              "(150, 4)"
            ]
          },
          "execution_count": 67,
          "metadata": {},
          "output_type": "execute_result"
        }
      ],
      "source": [
        "from sklearn.preprocessing import StandardScaler\n",
        "X_std = StandardScaler().fit_transform(X)\n",
        "print(X_std[0:5])\n",
        "X_std.shape"
      ]
    },
    {
      "cell_type": "markdown",
      "id": "22c1dbb9",
      "metadata": {},
      "source": [
        "Computing the covarience matrix"
      ]
    },
    {
      "cell_type": "code",
      "execution_count": 68,
      "id": "d7160f00",
      "metadata": {},
      "outputs": [
        {
          "data": {
            "text/plain": [
              "array([[ 1.00671141, -0.11010327,  0.87760486,  0.82344326],\n",
              "       [-0.11010327,  1.00671141, -0.42333835, -0.358937  ],\n",
              "       [ 0.87760486, -0.42333835,  1.00671141,  0.96921855],\n",
              "       [ 0.82344326, -0.358937  ,  0.96921855,  1.00671141]])"
            ]
          },
          "execution_count": 68,
          "metadata": {},
          "output_type": "execute_result"
        }
      ],
      "source": [
        "X_covarience_matrix = np.cov(X_std.T)\n",
        "X_covarience_matrix"
      ]
    },
    {
      "cell_type": "markdown",
      "id": "5afcdac3",
      "metadata": {},
      "source": [
        "Calculating eigen values and eigen vectors"
      ]
    },
    {
      "cell_type": "code",
      "execution_count": 69,
      "id": "3229e830",
      "metadata": {},
      "outputs": [
        {
          "name": "stdout",
          "output_type": "stream",
          "text": [
            "Eigen values  [2.93035378 0.92740362 0.14834223 0.02074601]\n",
            "Eigen vectors  [[ 0.52237162 -0.37231836 -0.72101681  0.26199559]\n",
            " [-0.26335492 -0.92555649  0.24203288 -0.12413481]\n",
            " [ 0.58125401 -0.02109478  0.14089226 -0.80115427]\n",
            " [ 0.56561105 -0.06541577  0.6338014   0.52354627]]\n"
          ]
        }
      ],
      "source": [
        "eig_vals, eig_vecs = np.linalg.eig(X_covarience_matrix)\n",
        "print('Eigen values ',eig_vals)\n",
        "print('Eigen vectors ',eig_vecs)"
      ]
    },
    {
      "cell_type": "markdown",
      "id": "e284d085",
      "metadata": {},
      "source": [
        "Make a list of (eigenvalue, eigenvector) tuples"
      ]
    },
    {
      "cell_type": "code",
      "execution_count": 70,
      "id": "2cfe645e",
      "metadata": {},
      "outputs": [],
      "source": [
        "eig_pairs = [(np.abs(eig_vals[i]), eig_vecs[:,i]) for i in range(len(eig_vals))]"
      ]
    },
    {
      "cell_type": "markdown",
      "id": "8432f3a1",
      "metadata": {},
      "source": [
        "Sort the (eigenvalue, eigenvector) tuples from high to low"
      ]
    },
    {
      "cell_type": "code",
      "execution_count": 71,
      "id": "e4c41fc3",
      "metadata": {},
      "outputs": [
        {
          "name": "stdout",
          "output_type": "stream",
          "text": [
            "Eigen values in desending order:\n",
            "2.9303537755893165\n",
            "0.9274036215173417\n",
            "0.14834222648163994\n",
            "0.020746013995596356\n"
          ]
        }
      ],
      "source": [
        "eig_pairs.sort(key=lambda x: x[0], reverse=True)\n",
        "print('Eigen values in desending order:')\n",
        "for i in eig_pairs:\n",
        "    print(i[0])"
      ]
    },
    {
      "cell_type": "code",
      "execution_count": 72,
      "id": "61929623",
      "metadata": {},
      "outputs": [
        {
          "name": "stdout",
          "output_type": "stream",
          "text": [
            "Varience captured by each components : [72.77045209380132, 23.03052326768064, 3.68383195762739, 0.5151926808906425]\n",
            "Cumulative varience : [ 72.77045209  95.80097536  99.48480732 100.        ]\n"
          ]
        }
      ],
      "source": [
        "total = sum(eig_vals)\n",
        "var_exp = [(i/total)*100 for i in sorted(eig_vals, reverse=True)]\n",
        "cum_var_exp = np.cumsum(var_exp)\n",
        "print('Varience captured by each components :', var_exp)\n",
        "print('Cumulative varience :', cum_var_exp)"
      ]
    },
    {
      "cell_type": "markdown",
      "id": "1ce4b81f",
      "metadata": {},
      "source": [
        "The above shows that the first principal component can alone account for 72% of the varience. The first two principal components can explain in total 95% of the varience"
      ]
    },
    {
      "cell_type": "code",
      "execution_count": 73,
      "id": "099a469c",
      "metadata": {},
      "outputs": [
        {
          "name": "stdout",
          "output_type": "stream",
          "text": [
            "Matrix W:  [[ 0.52237162 -0.37231836]\n",
            " [-0.26335492 -0.92555649]\n",
            " [ 0.58125401 -0.02109478]\n",
            " [ 0.56561105 -0.06541577]]\n"
          ]
        }
      ],
      "source": [
        "matrix_w = np.hstack((eig_pairs[0][1].reshape(4,1),\n",
        "                      eig_pairs[1][1].reshape(4,1)))\n",
        "print('Matrix W: ', matrix_w)                      "
      ]
    },
    {
      "cell_type": "markdown",
      "id": "fff7859e",
      "metadata": {},
      "source": [
        "In this way we have reduced our four features into two without losing much information "
      ]
    },
    {
      "cell_type": "code",
      "execution_count": 74,
      "id": "a215e9b7",
      "metadata": {},
      "outputs": [
        {
          "name": "stdout",
          "output_type": "stream",
          "text": [
            "[[-2.26454173 -0.5057039 ]\n",
            " [-2.0864255   0.65540473]\n",
            " [-2.36795045  0.31847731]\n",
            " [-2.30419716  0.57536771]\n",
            " [-2.38877749 -0.6747674 ]]\n"
          ]
        }
      ],
      "source": [
        "Y = X_std.dot(matrix_w)\n",
        "print(Y[0:5])"
      ]
    },
    {
      "cell_type": "code",
      "execution_count": 75,
      "id": "fb3b4cc1",
      "metadata": {},
      "outputs": [
        {
          "name": "stdout",
          "output_type": "stream",
          "text": [
            "Index(['SepalLengthCm', 'SepalWidthCm', 'PetalLengthCm', 'PetalWidthCm'], dtype='object')\n"
          ]
        },
        {
          "data": {
            "image/png": "[encoded data removed]",
            "text/plain": [
              "<Figure size 432x288 with 1 Axes>"
            ]
          },
          "metadata": {
            "needs_background": "light"
          },
          "output_type": "display_data"
        }
      ],
      "source": [
        "pl.figure()\n",
        "target_names = X.columns\n",
        "print(target_names)\n",
        "for c, i, target_name in zip(\"rgb\",['Iris-setosa', 'Iris-versicolor', 'Iris-virginica'], target_names):\n",
        "    pl.scatter(Y[y==i,0], Y[y==i,1], c=c, label=target_name)\n",
        "pl.xlabel('Principal Component 1')\n",
        "pl.ylabel('Principal Component 2')\n",
        "pl.legend()\n",
        "pl.title('PCA of IRIS dataset')\n",
        "pl.show()"
      ]
    }
  ],
  "metadata": {
    "interpreter": {
      "hash": "a28960e65365257941a791ce2683654f258fd3efc08277d53aa5422e77a5c2c7"
    },
    "kernelspec": {
      "display_name": "Python 3.9.7 64-bit",
      "language": "python",
      "name": "python3"
    },
    "language_info": {
      "codemirror_mode": {
        "name": "ipython",
        "version": 3
      },
      "file_extension": ".py",
      "mimetype": "text/x-python",
      "name": "python",
      "nbconvert_exporter": "python",
      "pygments_lexer": "ipython3",
      "version": "3.9.7"
    }
  },
  "nbformat": 4,
  "nbformat_minor": 5
}
